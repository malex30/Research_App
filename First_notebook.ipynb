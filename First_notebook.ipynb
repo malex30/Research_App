{
 "cells": [
  {
   "cell_type": "markdown",
   "metadata": {},
   "source": [
    "## Data Analytics Research"
   ]
  },
  {
   "cell_type": "code",
   "execution_count": 6,
   "metadata": {},
   "outputs": [],
   "source": [
    "from jupyter_dash import JupyterDash\n"
   ]
  },
  {
   "cell_type": "code",
   "execution_count": 11,
   "metadata": {},
   "outputs": [],
   "source": [
    "import dash\n",
    "import dash_core_components as dcc\n",
    "import dash_html_components as html\n",
    "import pandas as pd"
   ]
  },
  {
   "cell_type": "code",
   "execution_count": 16,
   "metadata": {},
   "outputs": [],
   "source": [
    "# Load Data\n",
    "\n",
    "bacteria = pd.read_excel(\"data/Bacteria_Firebird_ALL_2_6_2022.xlsx\")\n",
    "cold_finger = pd.read_excel(\"data/Cold_Finger_Firebird_ALL_2_6_2022.xlsx\")\n",
    "coupon = pd.read_excel(\"data/Coupon_Firebird_ALL_2_6_2022.xlsx\")\n",
    "cwa = pd.read_excel(\"data/CWA_Firebird_ALL_2_6_2022.xlsx\")\n",
    "deposit = pd.read_excel(\"data/Deposit_Firebird_ALL_2_6_2022.xlsx\")\n",
    "feMnP = pd.read_excel(\"data/FeMnP_Firebird_ALL_2_6_2022.xlsx\")\n",
    "millipore = pd.read_excel(\"data/millipore_Firebird_ALL_2_6_2022.xlsx\")\n",
    "oil_grease = pd.read_excel(\"data/OG_Firebird_ALL_2_6_2022.xlsx\")\n",
    "oil_finger = pd.read_excel(\"data/Oil_FingerPrint_Firebird_ALL_2_6_2022.xlsx\")"
   ]
  },
  {
   "cell_type": "code",
   "execution_count": 22,
   "metadata": {},
   "outputs": [],
   "source": [
    "app = dash.Dash(__name__)"
   ]
  }
 ],
 "metadata": {
  "interpreter": {
   "hash": "949777d72b0d2535278d3dc13498b2535136f6dfe0678499012e853ee9abcab1"
  },
  "kernelspec": {
   "display_name": "Python 3.7.7 64-bit",
   "language": "python",
   "name": "python3"
  },
  "language_info": {
   "codemirror_mode": {
    "name": "ipython",
    "version": 3
   },
   "file_extension": ".py",
   "mimetype": "text/x-python",
   "name": "python",
   "nbconvert_exporter": "python",
   "pygments_lexer": "ipython3",
   "version": "3.9.6"
  },
  "orig_nbformat": 4
 },
 "nbformat": 4,
 "nbformat_minor": 2
}
